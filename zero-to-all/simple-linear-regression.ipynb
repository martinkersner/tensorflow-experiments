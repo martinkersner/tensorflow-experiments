{
 "cells": [
  {
   "cell_type": "code",
   "execution_count": 1,
   "metadata": {},
   "outputs": [],
   "source": [
    "import tensorflow as tf\n",
    "import matplotlib.pyplot as plt\n",
    "import numpy as np\n",
    "\n",
    "%matplotlib inline"
   ]
  },
  {
   "cell_type": "code",
   "execution_count": 2,
   "metadata": {},
   "outputs": [
    {
     "data": {
      "text/plain": [
       "'1.0.0'"
      ]
     },
     "execution_count": 2,
     "metadata": {},
     "output_type": "execute_result"
    }
   ],
   "source": [
    "tf.__version__"
   ]
  },
  {
   "cell_type": "code",
   "execution_count": 3,
   "metadata": {},
   "outputs": [],
   "source": [
    "x_train = [1, 2, 3]\n",
    "y_train = [1, 2, 3]\n",
    "\n",
    "X = tf.constant(x_train, name='X', dtype=tf.float32)\n",
    "y = tf.constant(y_train, name='y', dtype=tf.float32)"
   ]
  },
  {
   "cell_type": "code",
   "execution_count": 4,
   "metadata": {
    "collapsed": true
   },
   "outputs": [],
   "source": [
    "W = tf.Variable(tf.random_normal([1]), name='weight')\n",
    "b = tf.Variable(tf.random_normal([1]), name='bias')"
   ]
  },
  {
   "cell_type": "code",
   "execution_count": 5,
   "metadata": {},
   "outputs": [],
   "source": [
    "# hypothesis = x_train * W + b\n",
    "hypothesis = X * W + b"
   ]
  },
  {
   "cell_type": "code",
   "execution_count": 6,
   "metadata": {},
   "outputs": [],
   "source": [
    "# cost = tf.reduce_mean(tf.square(hypothesis - y_train))\n",
    "cost = tf.reduce_mean(tf.square(hypothesis - y))"
   ]
  },
  {
   "cell_type": "code",
   "execution_count": 7,
   "metadata": {
    "collapsed": true
   },
   "outputs": [],
   "source": [
    "optimizer = tf.train.GradientDescentOptimizer(learning_rate=0.01)\n",
    "# optimizer = tf.train.AdamOptimizer(learning_rate=0.01)\n",
    "train = optimizer.minimize(cost)"
   ]
  },
  {
   "cell_type": "code",
   "execution_count": 8,
   "metadata": {
    "collapsed": true
   },
   "outputs": [],
   "source": [
    "sess = tf.Session()\n",
    "sess.run(tf.global_variables_initializer())"
   ]
  },
  {
   "cell_type": "code",
   "execution_count": 9,
   "metadata": {},
   "outputs": [
    {
     "name": "stdout",
     "output_type": "stream",
     "text": [
      "(0, 1.8871002)\n",
      "(20, 0.32751346)\n",
      "(40, 0.28488296)\n",
      "(60, 0.25862136)\n",
      "(80, 0.23488307)\n",
      "(100, 0.2133245)\n",
      "(120, 0.19374476)\n",
      "(140, 0.17596211)\n",
      "(160, 0.15981148)\n",
      "(180, 0.14514333)\n",
      "(200, 0.13182151)\n",
      "(220, 0.11972243)\n",
      "(240, 0.10873383)\n",
      "(260, 0.098753825)\n",
      "(280, 0.089689791)\n",
      "(300, 0.081457764)\n",
      "(320, 0.073981233)\n",
      "(340, 0.067190953)\n",
      "(360, 0.061023884)\n",
      "(380, 0.055422883)\n",
      "(400, 0.050335959)\n",
      "(420, 0.045715947)\n",
      "(440, 0.041519988)\n",
      "(460, 0.037709083)\n",
      "(480, 0.034248006)\n",
      "(500, 0.031104591)\n",
      "(520, 0.028249681)\n",
      "(540, 0.025656825)\n",
      "(560, 0.023301926)\n",
      "(580, 0.021163203)\n",
      "(600, 0.019220755)\n",
      "(620, 0.017456593)\n",
      "(640, 0.015854349)\n",
      "(660, 0.014399167)\n",
      "(680, 0.013077553)\n",
      "(700, 0.011877241)\n",
      "(720, 0.01078709)\n",
      "(740, 0.0097970171)\n",
      "(760, 0.0088978251)\n",
      "(780, 0.0080811335)\n",
      "(800, 0.0073394245)\n",
      "(820, 0.0066657718)\n",
      "(840, 0.00605396)\n",
      "(860, 0.0054983078)\n",
      "(880, 0.0049936441)\n",
      "(900, 0.0045353039)\n",
      "(920, 0.0041190377)\n",
      "(940, 0.003740981)\n",
      "(960, 0.003397614)\n",
      "(980, 0.0030857669)\n",
      "(1000, 0.0028025466)\n",
      "(1020, 0.0025453172)\n",
      "(1040, 0.0023116956)\n",
      "(1060, 0.0020995131)\n",
      "(1080, 0.0019068174)\n",
      "(1100, 0.0017317961)\n",
      "(1120, 0.0015728505)\n",
      "(1140, 0.0014284863)\n",
      "(1160, 0.0012973797)\n",
      "(1180, 0.0011782969)\n",
      "(1200, 0.0010701449)\n",
      "(1220, 0.00097192661)\n",
      "(1240, 0.00088272034)\n",
      "(1260, 0.00080169883)\n",
      "(1280, 0.00072811794)\n",
      "(1300, 0.00066128746)\n",
      "(1320, 0.00060059049)\n",
      "(1340, 0.00054546836)\n",
      "(1360, 0.00049540243)\n",
      "(1380, 0.0004499309)\n",
      "(1400, 0.0004086369)\n",
      "(1420, 0.00037112692)\n",
      "(1440, 0.00033706686)\n",
      "(1460, 0.00030612742)\n",
      "(1480, 0.00027802878)\n",
      "(1500, 0.00025250981)\n",
      "(1520, 0.00022933356)\n",
      "(1540, 0.00020828313)\n",
      "(1560, 0.00018916588)\n",
      "(1580, 0.00017180439)\n",
      "(1600, 0.00015603422)\n",
      "(1620, 0.00014171304)\n",
      "(1640, 0.00012870546)\n",
      "(1660, 0.00011689292)\n",
      "(1680, 0.0001061638)\n",
      "(1700, 9.6420219e-05)\n",
      "(1720, 8.7570865e-05)\n",
      "(1740, 7.9532831e-05)\n",
      "(1760, 7.2231036e-05)\n",
      "(1780, 6.5601889e-05)\n",
      "(1800, 5.9581114e-05)\n",
      "(1820, 5.4111781e-05)\n",
      "(1840, 4.9146522e-05)\n",
      "(1860, 4.4634209e-05)\n",
      "(1880, 4.0537889e-05)\n",
      "(1900, 3.6818132e-05)\n",
      "(1920, 3.3438184e-05)\n",
      "(1940, 3.0368576e-05)\n",
      "(1960, 2.7581787e-05)\n",
      "(1980, 2.5049836e-05)\n",
      "(2000, 2.2751072e-05)\n"
     ]
    }
   ],
   "source": [
    "step_lst = []\n",
    "cost_lst = []\n",
    "\n",
    "for step in range(2001):\n",
    "    sess.run(train)\n",
    "    \n",
    "    if step % 20 == 0:\n",
    "        step_lst.append(step)\n",
    "        cost_lst.append(sess.run(cost))\n",
    "        print(step, sess.run(cost))"
   ]
  },
  {
   "cell_type": "code",
   "execution_count": 10,
   "metadata": {},
   "outputs": [
    {
     "data": {
      "text/plain": [
       "<matplotlib.text.Text at 0x7fa69c90ff90>"
      ]
     },
     "execution_count": 10,
     "metadata": {},
     "output_type": "execute_result"
    },
    {
     "data": {
      "image/png": "[encoded data removed]",
      "text/plain": [
       "<matplotlib.figure.Figure at 0x7fa69c99b510>"
      ]
     },
     "metadata": {},
     "output_type": "display_data"
    }
   ],
   "source": [
    "plt.figure()\n",
    "plt.plot(step_lst, cost_lst)\n",
    "plt.ylabel(\"cost\")\n",
    "plt.xlabel(\"step\")"
   ]
  }
 ],
 "metadata": {
  "kernelspec": {
   "display_name": "Python 2",
   "language": "python",
   "name": "python2"
  },
  "language_info": {
   "codemirror_mode": {
    "name": "ipython",
    "version": 2
   },
   "file_extension": ".py",
   "mimetype": "text/x-python",
   "name": "python",
   "nbconvert_exporter": "python",
   "pygments_lexer": "ipython2",
   "version": "2.7.12"
  }
 },
 "nbformat": 4,
 "nbformat_minor": 2
}
